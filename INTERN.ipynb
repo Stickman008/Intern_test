{
 "cells": [
  {
   "cell_type": "code",
   "execution_count": 1,
   "metadata": {},
   "outputs": [],
   "source": [
    "import pandas\n",
    "import numpy\n",
    "import cv2 as cv\n",
    "import torch\n",
    "import torch.nn as nn\n",
    "import torch.nn.functional as F\n",
    "import torch.optim as optim"
   ]
  },
  {
   "cell_type": "code",
   "execution_count": 6,
   "metadata": {},
   "outputs": [
    {
     "name": "stderr",
     "output_type": "stream",
     "text": [
      "UsageError: Line magic function `%wget` not found.\n"
     ]
    }
   ],
   "source": [
    "# %wget http://ptak.felk.cvut.cz/6DB/public/bop_datasets/lm_train_pbr.zip\n",
    "\n",
    "# export SRC=http://ptak.felk.cvut.cz/6DB/public/bop_datasets\n",
    "# wget $SRC/lm_base.zip         # Base archive with dataset info, camera parameters, etc.\n",
    "# wget $SRC/lm_models.zip       # 3D object models.\n",
    "# wget $SRC/lm_test_all.zip     # All test images (\"_bop19\" for a subset used in the BOP Challenge 2019/2020).\n",
    "# wget $SRC/lm_train_pbr.zip    # PBR training images (rendered with BlenderProc4BOP).\n",
    "\n",
    "# unzip lm_base.zip             # Contains folder \"lm\".\n",
    "# unzip lm_models.zip -d lm     # Unpacks to \"lm\".\n",
    "# unzip lm_test_all.zip -d lm   # Unpacks to \"lm\".\n",
    "# unzip lm_train_pbr.zip -d lm  # Unpacks to \"lm\"."
   ]
  },
  {
   "cell_type": "code",
   "execution_count": null,
   "metadata": {},
   "outputs": [],
   "source": [
    "result_width = 100\n",
    "result_heigth = 100\n",
    "def resize():\n",
    "    pass"
   ]
  },
  {
   "cell_type": "code",
   "execution_count": null,
   "metadata": {},
   "outputs": [],
   "source": [
    "class Dataset(torch.utils.data.Dataset):\n",
    "    def __init__(self):\n",
    "        pass"
   ]
  },
  {
   "cell_type": "code",
   "execution_count": 2,
   "metadata": {},
   "outputs": [
    {
     "data": {
      "text/plain": [
       "5"
      ]
     },
     "execution_count": 2,
     "metadata": {},
     "output_type": "execute_result"
    }
   ],
   "source": [
    "class Net(nn.Module):\n",
    "  def __init__(self):\n",
    "    super.__init__()\n",
    "    self._to_linear = None\n",
    "    self.fc1 = nn.Linear(self._to_linear, 1024)\n",
    "    self.fc2 = nn.Linear(1024, 2)\n",
    "    \n",
    "\n",
    "  def forward(self, x):\n",
    "    x = F.relu(self.fc1(x))\n",
    "    result = F.softmax(self.fc2(x), dim=1)\n",
    "    return result"
   ]
  },
  {
   "cell_type": "code",
   "execution_count": null,
   "metadata": {},
   "outputs": [],
   "source": [
    "MAX_EPOCH = 1000\n",
    "optimizer = \n",
    "def train():\n",
    "    model = Net()\n",
    "    for epoch in MAX_EPOCH:\n",
    "\n",
    "        "
   ]
  },
  {
   "cell_type": "markdown",
   "metadata": {},
   "source": []
  }
 ],
 "metadata": {
  "interpreter": {
   "hash": "2312e55fce8892ca5a2892186c6ef6b6c1a9387f6adc0b1ef4b759e8dcf769bd"
  },
  "kernelspec": {
   "display_name": "Python 3.9.6 64-bit",
   "language": "python",
   "name": "python3"
  },
  "language_info": {
   "codemirror_mode": {
    "name": "ipython",
    "version": 3
   },
   "file_extension": ".py",
   "mimetype": "text/x-python",
   "name": "python",
   "nbconvert_exporter": "python",
   "pygments_lexer": "ipython3",
   "version": "3.9.7"
  },
  "orig_nbformat": 4
 },
 "nbformat": 4,
 "nbformat_minor": 2
}
